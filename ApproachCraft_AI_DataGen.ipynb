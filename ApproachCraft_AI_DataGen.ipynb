{
  "nbformat": 4,
  "nbformat_minor": 0,
  "metadata": {
    "colab": {
      "provenance": [],
      "authorship_tag": "ABX9TyNbOH52cDmMYFoQXYuamVLt",
      "include_colab_link": true
    },
    "kernelspec": {
      "name": "python3",
      "display_name": "Python 3"
    },
    "language_info": {
      "name": "python"
    }
  },
  "cells": [
    {
      "cell_type": "markdown",
      "metadata": {
        "id": "view-in-github",
        "colab_type": "text"
      },
      "source": [
        "<a href=\"https://colab.research.google.com/github/SaatvikP/ApproachCraft-AI/blob/main/ApproachCraft_AI_DataGen.ipynb\" target=\"_parent\"><img src=\"https://colab.research.google.com/assets/colab-badge.svg\" alt=\"Open In Colab\"/></a>"
      ]
    },
    {
      "cell_type": "code",
      "execution_count": null,
      "metadata": {
        "colab": {
          "base_uri": "https://localhost:8080/"
        },
        "id": "R1oowLmRVvdm",
        "outputId": "ad370b61-568c-480e-be69-09fd9ed26a0b"
      },
      "outputs": [
        {
          "output_type": "stream",
          "name": "stdout",
          "text": [
            "Collecting arxiv\n",
            "  Downloading arxiv-2.2.0-py3-none-any.whl.metadata (6.3 kB)\n",
            "Collecting feedparser~=6.0.10 (from arxiv)\n",
            "  Downloading feedparser-6.0.11-py3-none-any.whl.metadata (2.4 kB)\n",
            "Requirement already satisfied: requests~=2.32.0 in /usr/local/lib/python3.11/dist-packages (from arxiv) (2.32.3)\n",
            "Collecting sgmllib3k (from feedparser~=6.0.10->arxiv)\n",
            "  Downloading sgmllib3k-1.0.0.tar.gz (5.8 kB)\n",
            "  Preparing metadata (setup.py) ... \u001b[?25l\u001b[?25hdone\n",
            "Requirement already satisfied: charset-normalizer<4,>=2 in /usr/local/lib/python3.11/dist-packages (from requests~=2.32.0->arxiv) (3.4.1)\n",
            "Requirement already satisfied: idna<4,>=2.5 in /usr/local/lib/python3.11/dist-packages (from requests~=2.32.0->arxiv) (3.10)\n",
            "Requirement already satisfied: urllib3<3,>=1.21.1 in /usr/local/lib/python3.11/dist-packages (from requests~=2.32.0->arxiv) (2.3.0)\n",
            "Requirement already satisfied: certifi>=2017.4.17 in /usr/local/lib/python3.11/dist-packages (from requests~=2.32.0->arxiv) (2025.1.31)\n",
            "Downloading arxiv-2.2.0-py3-none-any.whl (11 kB)\n",
            "Downloading feedparser-6.0.11-py3-none-any.whl (81 kB)\n",
            "\u001b[2K   \u001b[90m━━━━━━━━━━━━━━━━━━━━━━━━━━━━━━━━━━━━━━━━\u001b[0m \u001b[32m81.3/81.3 kB\u001b[0m \u001b[31m3.5 MB/s\u001b[0m eta \u001b[36m0:00:00\u001b[0m\n",
            "\u001b[?25hBuilding wheels for collected packages: sgmllib3k\n",
            "  Building wheel for sgmllib3k (setup.py) ... \u001b[?25l\u001b[?25hdone\n",
            "  Created wheel for sgmllib3k: filename=sgmllib3k-1.0.0-py3-none-any.whl size=6046 sha256=a648d09595585c3980f294e6cb10196d878b8f5c52e9a5a87c4d0332caf001c9\n",
            "  Stored in directory: /root/.cache/pip/wheels/3b/25/2a/105d6a15df6914f4d15047691c6c28f9052cc1173e40285d03\n",
            "Successfully built sgmllib3k\n",
            "Installing collected packages: sgmllib3k, feedparser, arxiv\n",
            "Successfully installed arxiv-2.2.0 feedparser-6.0.11 sgmllib3k-1.0.0\n"
          ]
        }
      ],
      "source": [
        "!pip install arxiv\n"
      ]
    },
    {
      "cell_type": "code",
      "source": [
        "import arxiv\n",
        "import json\n",
        "\n",
        "# Define your search query and how many papers to retrieve\n",
        "query = '(\"AI in education\" OR \"intelligent tutoring\" OR \"automated feedback\" OR \"LLM education\" OR \"student modeling\")'\n",
        "\n",
        "search = arxiv.Search(\n",
        "    query=query,\n",
        "    max_results=2000,  # you can increase this to 200, 500 etc.\n",
        "    sort_by=arxiv.SortCriterion.SubmittedDate,\n",
        "    sort_order=arxiv.SortOrder.Descending\n",
        ")\n",
        "\n",
        "# Prepare your dataset list\n",
        "dataset = []\n",
        "\n",
        "for result in search.results():\n",
        "    title = result.title.strip()\n",
        "    abstract = result.summary.strip().replace('\\n', ' ')\n",
        "\n",
        "    # Skip short abstracts to filter out noise\n",
        "    if len(abstract.split()) < 50:\n",
        "        continue\n",
        "\n",
        "    data_point = {\n",
        "        \"prompt\": title,\n",
        "        \"response\": abstract\n",
        "    }\n",
        "    dataset.append(data_point)\n",
        "\n",
        "# Save the output to a .jsonl file\n",
        "output_file = \"ai_edu_dataset.jsonl\"\n",
        "with open(output_file, \"w\", encoding=\"utf-8\") as f:\n",
        "    for item in dataset:\n",
        "        json.dump(item, f)\n",
        "        f.write(\"\\n\")\n",
        "\n",
        "print(f\"Dataset generation complete: {len(dataset)} entries saved to {output_file}\")\n"
      ],
      "metadata": {
        "colab": {
          "base_uri": "https://localhost:8080/"
        },
        "id": "q7b3wxlTeRDA",
        "outputId": "1abe6bb2-d01f-49da-b64f-d3c6320ea22f"
      },
      "execution_count": null,
      "outputs": [
        {
          "output_type": "stream",
          "name": "stderr",
          "text": [
            "<ipython-input-4-cce392b08c7b>:17: DeprecationWarning: The 'Search.results' method is deprecated, use 'Client.results' instead\n",
            "  for result in search.results():\n"
          ]
        },
        {
          "output_type": "stream",
          "name": "stdout",
          "text": [
            "Dataset generation complete: 1894 entries saved to ai_edu_dataset.jsonl\n"
          ]
        }
      ]
    },
    {
      "cell_type": "code",
      "source": [],
      "metadata": {
        "id": "JvMMk_7Rebb5"
      },
      "execution_count": null,
      "outputs": []
    }
  ]
}